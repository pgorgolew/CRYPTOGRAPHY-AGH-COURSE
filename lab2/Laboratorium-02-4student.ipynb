{
 "cells": [
  {
   "cell_type": "markdown",
   "metadata": {},
   "source": [
    "# Kryptografia z kluczem tajnym (symetryczna): szyfry strumieniowe\n",
    "### Literatura:\n",
    "1. Nowoczesna kryptografia, Aumasson\n",
    "2. Kryptografia dla praktyków, Schneier"
   ]
  },
  {
   "cell_type": "markdown",
   "metadata": {},
   "source": [
    "#### Funkcje pomocnicze\n",
    "Zadaniem poniższego zestawu funkcji jest zamiana wiadomości tekstowej (poprzez kody ASCII) do (tekstowego) ciągu 0 i 1. Chcemy analizować funkcje tak jak są one opisane w książkach.\n"
   ]
  },
  {
   "cell_type": "code",
   "execution_count": 13,
   "metadata": {},
   "outputs": [
    {
     "name": "stdout",
     "output_type": "stream",
     "text": [
      "Liczba 200 w zapisie binarnym na 8 bitach: 11001000\n",
      "Liczba 200 w zapisie binarnym na 16 bitach: 0000000011001000\n",
      "Tekst w formie kodów ASCII:  [84, 104, 101, 32, 113, 117, 105, 99, 107, 32, 98, 114, 111, 119, 110, 32, 102, 111, 120, 32, 106, 117, 109, 112, 115, 32, 111, 118, 101, 114, 32, 116, 104, 101, 32, 108, 97, 122, 121, 32, 100, 111, 103]\n",
      "Tekst w formie porcji bitów: ['01010100', '01101000', '01100101', '00100000', '01110001', '01110101', '01101001', '01100011', '01101011', '00100000', '01100010', '01110010', '01101111', '01110111', '01101110', '00100000', '01100110', '01101111', '01111000', '00100000', '01101010', '01110101', '01101101', '01110000', '01110011', '00100000', '01101111', '01110110', '01100101', '01110010', '00100000', '01110100', '01101000', '01100101', '00100000', '01101100', '01100001', '01111010', '01111001', '00100000', '01100100', '01101111', '01100111']\n",
      "Tekst w postaci ciągu 0 i 1: 01010100011010000110010100100000011100010111010101101001011000110110101100100000011000100111001001101111011101110110111000100000011001100110111101111000001000000110101001110101011011010111000001110011001000000110111101110110011001010111001000100000011101000110100001100101001000000110110001100001011110100111100100100000011001000110111101100111\n",
      "\n",
      "AND 0101010001100\n",
      "OR 0101010001101\n",
      "XOR 0000000000001\n",
      "NEG 1010101110010\n"
     ]
    }
   ],
   "source": [
    "# Funkcje pomocnicze \n",
    "from textwrap import wrap\n",
    "import math \n",
    "from codecs import encode\n",
    "\n",
    "#tablica znaków w tablicę kodów int\n",
    "def intoASCIIArray(message: str):\n",
    "    int_array = []\n",
    "    mesg_array = list(message) \n",
    "    for i in mesg_array:\n",
    "        int_array.append(ord(i))\n",
    "    return int_array\n",
    "\n",
    "#tablica kodów int w tablice znaków \n",
    "def intoCharArray(message: []):\n",
    "    mesg_char = []\n",
    "    for i in message:\n",
    "        mesg_char.append(chr(i))\n",
    "    return mesg_char\n",
    "\n",
    "# jak wyświetlić dane w postaci binarnej na n bitach \n",
    "get_bin = lambda x, n: format(x, 'b').zfill(n)\n",
    "\n",
    "#tekst ascii w postaci tablicy 8-bitowych porcji\n",
    "def ASCIIToBinChunks(message_list):\n",
    "    binary = []\n",
    "    for x in message_list: \n",
    "        binary.append(get_bin(x, 8))\n",
    "    return binary\n",
    "\n",
    "#tekst ascii w formie strumienia bitów \n",
    "def ASCIIToBinStream(binary: []):\n",
    "    binary_str = \"\"\n",
    "    for x in binary:\n",
    "        binary_str+=x \n",
    "    return binary_str\n",
    "\n",
    "\n",
    "# Przykłady\n",
    "\n",
    "# Liczba 200 w zapisie binarnym \n",
    "l = 200\n",
    "bl = get_bin(l,8)\n",
    "print(\"Liczba 200 w zapisie binarnym na 8 bitach:\", bl)\n",
    "bl = get_bin(l,16)\n",
    "print(\"Liczba 200 w zapisie binarnym na 16 bitach:\", bl)\n",
    "\n",
    "\n",
    "messageTxt = 'The quick brown fox jumps over the lazy dog'\n",
    "messageASCII = intoASCIIArray(messageTxt)\n",
    "print(\"Tekst w formie kodów ASCII: \",messageASCII)\n",
    "messageASCIIBinChunks = ASCIIToBinChunks(messageASCII)\n",
    "print(\"Tekst w formie porcji bitów:\", messageASCIIBinChunks)\n",
    "messageASCIIBinStream = ASCIIToBinStream(messageASCIIBinChunks) \n",
    "print(\"Tekst w postaci ciągu 0 i 1:\", messageASCIIBinStream)\n",
    "print()        \n",
    "\n",
    "\n",
    "#Operatory logiczne działające na napisach bitów \n",
    "def XOR(bits1,bits2):\n",
    "    \"\"\"perform a XOR operation and return the output\"\"\"\n",
    "    xor_result = \"\"\n",
    "    for index in range(len(bits1)):\n",
    "        if bits1[index] == bits2[index]: \n",
    "            xor_result += '0'\n",
    "        else:\n",
    "            xor_result += '1'\n",
    "    return xor_result  \n",
    "\n",
    "def AND(bits1,bits2):\n",
    "    \"\"\"perform a AND operation and return the output\"\"\"\n",
    "    and_result = \"\"\n",
    "    for index in range(len(bits1)):\n",
    "        if (bits1[index] == '1') and  (bits2[index] == '1'): \n",
    "            and_result += '1'\n",
    "        else:\n",
    "            and_result += '0'\n",
    "    return and_result  \n",
    "\n",
    "def OR(bits1,bits2):\n",
    "    \"\"\"perform a OR operation and return the output\"\"\"\n",
    "    or_result = \"\"\n",
    "    for index in range(len(bits1)):\n",
    "        if (bits1[index] == '0') and  (bits2[index] == '0'): \n",
    "            or_result += '0'\n",
    "        else:\n",
    "            or_result += '1'\n",
    "    return or_result  \n",
    "\n",
    "def NEG(bits):\n",
    "    \"\"\"perform a NEG operation and return the output\"\"\"\n",
    "    neg_result = \"\"\n",
    "    for index in range(len(bits)):\n",
    "        if (bits[index] == '0'): \n",
    "            neg_result += '1'\n",
    "        else:\n",
    "            neg_result += '0'\n",
    "    return neg_result  \n",
    "\n",
    "print(\"AND\", AND('0101010001101', '0101010001100'))    \n",
    "print(\"OR\", OR('0101010001101', '0101010001100')) \n",
    "print(\"XOR\", XOR('0101010001101', '0101010001100')) \n",
    "print(\"NEG\", NEG('0101010001101')) "
   ]
  },
  {
   "cell_type": "code",
   "execution_count": 14,
   "metadata": {},
   "outputs": [
    {
     "name": "stdout",
     "output_type": "stream",
     "text": [
      "Losowe bajty: ['10001110', '11111000', '11000111', '11110101', '11101100', '01010100', '00111110', '10011110']\n",
      "Strumień bitów: 1000111011111000110001111111010111101100010101000011111010011110\n",
      "Pojedyncze losowe bajty:10000110 00000010\n"
     ]
    }
   ],
   "source": [
    "# Generowanie losowych danych: funkcje i algorytmy pomocnicze \n",
    "import random\n",
    "random.seed(\"key\")  #generator PRNG w python można inicjalizować tekstem\n",
    "\n",
    "# jak wygenerować 8 losowych bitów (razy n)\n",
    "def randomBytes(n):\n",
    "    return bytes(random.getrandbits(8) for i in range(n))\n",
    "\n",
    "def randomByte():\n",
    "    return random.randint(0,255)\n",
    "\n",
    "def randomByteBin():\n",
    "    return get_bin(random.randint(0,255),8)\n",
    "\n",
    "#jak wygenerować ciąg losowych bajtów\n",
    "random_stream_chunks = []\n",
    "for i in range(8):\n",
    "    random_stream_chunks.append(randomByteBin())\n",
    "\n",
    "print(\"Losowe bajty:\", random_stream_chunks)\n",
    "    \n",
    "randomBinaryString = \"\"    \n",
    "for i in random_stream_chunks:\n",
    "    randomBinaryString+=i\n",
    "\n",
    "print(\"Strumień bitów:\", randomBinaryString)\n",
    "    \n",
    "print(\"Pojedyncze losowe bajty:\", end=\"\")\n",
    "bits1 = randomByteBin()\n",
    "bits2 = get_bin(randomByte(),8)\n",
    "print(bits1, bits2)"
   ]
  },
  {
   "cell_type": "markdown",
   "metadata": {},
   "source": [
    "### Zadanie samodzielne dla studentów\n",
    "Zaimplementuj szyfr, który utajnia strumień wiadomości jawnej przez łączenie go z pseudolosowym strumieniem \n"
   ]
  },
  {
   "cell_type": "code",
   "execution_count": 15,
   "metadata": {
    "scrolled": false
   },
   "outputs": [
    {
     "name": "stdout",
     "output_type": "stream",
     "text": [
      "Âµ=Níóo¶²<$zðØÀáÂJ*ö\u001C\u0017è\u0019N«\u0019=m²\u001Aµ\u0019úÞmëAÜ¥£5Gð=¨\u0019÷ZQðSö­ªpR\u001E\u001E\u0012\u0016|;®D3fz`®.L[\u0002X¬q\u0015ng \\Ð\u0014½(\t\u0013*8!.¬ÜS;8ÑÓ\n"
     ]
    }
   ],
   "source": [
    "s='''Lorem ipsum dolor sit amet, consectetur adipiscing elit. Nunc eget augue eget sem sodales ultrices. Quisque dapibus, urna sit amet.'''\n",
    "# %store s >plaintext.txt\n",
    "# text = open(\"plaintext.txt\", \"r\")\n",
    "\n",
    "random.seed(\"key\")\n",
    "\n",
    "bin_text_array = ASCIIToBinChunks(intoASCIIArray(s.replace(\" \", \"\")))\n",
    "key_bin = [randomByteBin() for _ in range(len(bin_text_array))]\n",
    "ciphertext_bin = [XOR(key_bin[i], bin_text_array[i]) for i in range(len(bin_text_array))]\n",
    "ciphertext = ''.join(intoCharArray([int(s,2) for s in ciphertext_bin]))\n",
    "\n",
    "print(ciphertext)"
   ]
  },
  {
   "cell_type": "markdown",
   "metadata": {},
   "source": [
    "### Linear congruential generators (LCG)\n",
    "Generatory liniowe kongruentne sa najprostszymi generatorami dającymi ciągi liczb o dobrych własnościach statystycznych. Kolejne wyrazy ciągu generowane sa przy pomocy formuły:\n",
    "\n",
    "$z_{i+1}=(a\\cdot z_i+c)\\bmod m$\n",
    "\n",
    "Wyraz $z_0$ nazywany jest ziarnem (_seed_). Użycie tego samego ziarna gwarantuje nam wyprodukowanie tej samej sekwencji liczb.\n",
    "\n",
    "Charakterystyczną cechą GLK jest ich okresowość. Oczekujemy możliwie najdłuższego okresu (maksymalny to $m-1$). Najdłuższy okres otrzymamy gdy spełnione są pewne warunki (twierdzenie Hull'a-Dobell'a):\n",
    "\n",
    "- $c$ i $m$ są względnie pierwsze, \n",
    "- $a-1$ jest podzielne przez wszystkiem pierwsze czynniki $m$,\n",
    "- $a-1$ jest wielokrotnoścą 4 jeśli $m$ jest wielokrotnością 4.\n",
    "\n",
    "Przykładowe dobre wartości to $a=1103515245$, $c=12345$ dla $m=2^{31}$ \n",
    "\n",
    "Zazwyczaj generator zwraca wartość $\\frac{z_i}{m}$, ale wyjście można przeskalować do dowolnej innej wartości. \n",
    "\n",
    "Obecnie większość PRNG to tzw. _Mersenne twister_, ale ogólna idea ich użytkowania i własności jest taka sama jak w przypadku generatorów kongruentnych. "
   ]
  },
  {
   "cell_type": "code",
   "execution_count": 16,
   "metadata": {},
   "outputs": [
    {
     "name": "stdout",
     "output_type": "stream",
     "text": [
      "[166, 97, 88, 33, 91, 184, 211, 119, 189, 205, 46, 8, 82, 18, 98, 253, 139, 27, 203, 49, 203, 44, 215, 76, 5, 204, 67, 84, 70, 232, 23, 190, 31, 114, 226, 213, 33, 239, 96, 162, 104, 13, 14, 12, 112, 126, 219, 108, 23, 86, 124, 87, 47, 36, 130, 187, 97, 233, 206, 39, 210, 88, 112, 86, 72, 72, 144, 215, 63, 238, 132, 236, 182, 191, 142, 108, 23, 115, 119, 207, 4, 53, 145, 53, 114, 93, 60, 125, 219, 199, 126, 74, 236, 39, 212, 15, 121, 91, 202, 235]\n"
     ]
    }
   ],
   "source": [
    "def lcg(x, a, c, m):\n",
    "    while True:\n",
    "        x = (a * x + c) % m\n",
    "        yield x\n",
    "        \n",
    "def random_uniform_sample(n, interval, seed=0):\n",
    "    a, c, m = 1103515245, 12345, 2 ** 31\n",
    "    bsdrand = lcg(seed, a, c, m)\n",
    "\n",
    "    lower, upper = interval[0], interval[1]\n",
    "    sample = []\n",
    "\n",
    "    for i in range(n):\n",
    "        observation = (upper - lower) * (next(bsdrand) / (2 ** 31 - 1)) + lower\n",
    "        sample.append(round(observation))\n",
    "\n",
    "    return sample\n",
    "\n",
    "print(random_uniform_sample(100, [0,255],11))"
   ]
  },
  {
   "cell_type": "markdown",
   "metadata": {},
   "source": [
    "### Kryptograficzne generatory PRNG\n",
    "Urządzenie /dev/urandom stanowi podstawę dobrego generatora CPRNG"
   ]
  },
  {
   "cell_type": "code",
   "execution_count": 17,
   "metadata": {},
   "outputs": [
    {
     "name": "stdout",
     "output_type": "stream",
     "text": [
      "(-2082492304,)\n",
      "(353102608,)\n",
      "2\n",
      "(32175,)\n",
      "(28498,)\n",
      "(1060.1417236328125,)\n",
      "(-1.1856003054282194e-33,)\n",
      "(b'\\x1e',)\n"
     ]
    }
   ],
   "source": [
    "import os\n",
    "import struct\n",
    "\n",
    "# random integer using os.urandom()\n",
    "print(struct.unpack('i', os.urandom(4)))\n",
    "# Output (258871565,)\n",
    "\n",
    "# unsigned random integer using os.urandom()\n",
    "print(struct.unpack('I', os.urandom(4)))\n",
    "print(struct.unpack('I', os.urandom(4))[0] % 100)\n",
    "# Output (1015967885,)\n",
    "\n",
    "# random short number using os.urandom()\n",
    "print(struct.unpack('h', os.urandom(2)))\n",
    "# Output (-28882,)\n",
    "\n",
    "# unsigned random short using os.urandom()\n",
    "print(struct.unpack('H', os.urandom(2)))\n",
    "# Output (29492,)\n",
    "\n",
    "# Print random float using os.urandom()\n",
    "print(struct.unpack('f', os.urandom(4)))\n",
    "# Output (-4.651611836498911e+20,)\n",
    "\n",
    "# un-singed random decimal using os.urandom()\n",
    "print(struct.unpack('d', os.urandom(8)))\n",
    "# Output (-1.7024488468332834e-120,)\n",
    "\n",
    "# random char using os.urandom()\n",
    "print(struct.unpack('c', os.urandom(1)))\n",
    "# Output (b'\\xce',)"
   ]
  },
  {
   "cell_type": "markdown",
   "metadata": {},
   "source": [
    "### Zastanów się: \n",
    "1. Poszukaj informacji o szyfrach binarnie addytywnych \n",
    "2. Poszukaj informacji o szyfrach strumieniowych używanych w praktyce. Gdzie takie szyfry mogą być obecnie stosowane? "
   ]
  },
  {
   "cell_type": "markdown",
   "metadata": {},
   "source": [
    "### Problem \n",
    "Utwórz dwie różne wiadomości równej długości. Zaszyfruj je szyfrem XOR z użyciem tego samego klucza. Wyznacz alternatywę rozłączną szyfrogramów (XOR) i porównaj ją z tą samą operacją wykonaną dla tekstów jawnych. \n",
    "\n",
    "*Z oczywistych względów jeśli obie wiadomości zaszyfrujemy szyfrem XOR z tym samym kluczem to XOR wiadomości jest równy XOR szyfrogramów. Wystarczyłoby np. zdobyć/odgadnąć jeden tekst jawny*  "
   ]
  },
  {
   "cell_type": "code",
   "execution_count": 18,
   "metadata": {},
   "outputs": [
    {
     "name": "stdout",
     "output_type": "stream",
     "text": [
      "Cipher message 1 bytes: ['00011000', '00000000', '00011010', '00011001', '00000000', '00001101']\n",
      "Cipher message 2 bytes: ['00011011', '00001010', '00001100', '00001101', '00001011', '00000000']\n",
      "Cipher messages XOR:    ['00000011', '00001010', '00010110', '00010100', '00001011', '00001101']\n",
      "Plain messages XOR:     ['00000011', '00001010', '00010110', '00010100', '00001011', '00001101']\n",
      "Are XORs the same?     True\n"
     ]
    }
   ],
   "source": [
    "message1 = 'secret'\n",
    "message2 = 'poufny'\n",
    "key = 'key'\n",
    "\n",
    "def encrypt(text, key):\n",
    "    text_bytes = ASCIIToBinChunks(intoASCIIArray(text))\n",
    "    key_bytes = ASCIIToBinChunks(intoASCIIArray(key))\n",
    "    return [XOR(text_byte, key_bytes[i % len(key_bytes)]) for i, text_byte in enumerate(text_bytes)]\n",
    "\n",
    "cipher_message1_bytes = encrypt(message1, key)\n",
    "cipher_message2_bytes = encrypt(message2, key)\n",
    "\n",
    "cipher_messages_xor = [XOR(byte1, byte2) for byte1, byte2 in zip(\n",
    "                        cipher_message1_bytes,\n",
    "                        cipher_message2_bytes)]\n",
    "plain_messages_xor = [XOR(byte1, byte2) for byte1, byte2 in zip(\n",
    "                        ASCIIToBinChunks(intoASCIIArray(message1)),\n",
    "                        ASCIIToBinChunks(intoASCIIArray(message2)))]\n",
    "\n",
    "print('Cipher message 1 bytes:', cipher_message1_bytes)\n",
    "print('Cipher message 2 bytes:', cipher_message2_bytes)\n",
    "print('Cipher messages XOR:   ', cipher_messages_xor)\n",
    "print('Plain messages XOR:    ', plain_messages_xor)\n",
    "print('Are XORs the same?    ', all(b1 == b2 for b1, b2 in zip(cipher_messages_xor, plain_messages_xor)))"
   ]
  },
  {
   "cell_type": "markdown",
   "metadata": {},
   "source": [
    "### Bezpieczeństwo szyfru XOR\n",
    "1. Jakie znaczenie ma powyższy wynik z punktu widzenia kryptoanalizy?\n",
    "    Powyższy wynik świadczy o dużym niebezpieczeństwie wykorzystania tego rodzaju szyfrowania. Wystarczy, że znamy jeden tekst jawny zaszyfrowany, przy pomocy tego szyfrowania oraz jego szyfrogram, żebyśmy mogli odszyfrować dowolną wiadomość. Jeżeli poznamy inny szyfrogram, możemy wykonać operację XOR na binarnej postaci tego szyfrogramu oraz wcześniej poznanego szyfrogramu. Następnie, wiedząc, że XOR 2 szyfrogramów, zaszyfrowanych z wykorzystaniem tego samego klucza, jest taki sam jak XOR odpowiadających im tekstów jawnych, możemy wyznaczyć tekst jawny zaszyfrowanej wiadomości.\n",
    "2. Jeśli OTP to OK.\n",
    "    Tak, ponieważ zmiana klucza, wykorzystanego przy tego rodzaju szyfrowaniu, powoduje, że nie możliwe jest poznanie tekstu jawnego innej wiadomości (zaszyfrowanej z wykorzystaniem innego klucza).\n",
    "3. Na czym polega atak ze znanym tekstem jawnym?\n",
    "    Atak ze znanym tekstem opisany w 1 pytaniu. Polega on na tym, że wykonujemy XOR szyfrogramu, który odpowiada temu tekstowi jawnemu i innego szyfrogramu. Następnie, wiedząc, że XOR szyfrogramów jest taki sam jak XOR odpowiadających im tekstów jawnych, możemy odszyfrować tekst jawny, odpowiadający poznanemu szyfrogramowi, o ile oba szyfrogramy powstały wskutek wykorzystania tego samego szyfrowania z tym samym kluczem."
   ]
  },
  {
   "cell_type": "markdown",
   "metadata": {},
   "source": [
    "### Problem\n",
    "\n",
    "1. Utwórz dowolną wiadomość $M_1$. \n",
    "2. Zaszyfruj ją swoim szyfrem XOR z kluczem $K$. \n",
    "3. Wykonaj na szyfrogramie $C_1$ operację $C_2 = C_1 \\oplus (111\\ldots1)$. \n",
    "4. Odszyfruj wiadomość $C_2$ stosując ten sam klucz $K$. \n",
    "5. Porównaj wiadomości: $M_1$ i odszyfrowaną w poprzednim kroku $M_2$ (najlepiej binarnie). \n",
    "\n",
    "*Demonstrujemy deformowalność szyfrowania XOR - możemy zmodyfikować szyfrogram tak by po odszyfrowniu wiadomość była _sensownie_ powiązana z oryginalnym tekstem jawnym* "
   ]
  },
  {
   "cell_type": "code",
   "execution_count": 19,
   "metadata": {},
   "outputs": [
    {
     "name": "stdout",
     "output_type": "stream",
     "text": [
      "M1 binary:  ['01101101', '01101111', '01101010', '01100001', '01110111', '01101001', '01100001', '01100100', '01101111', '01101101', '01101111', '01110011', '01100011']\n",
      "M2 binary:  ['10010010', '10011001', '10011001', '10010110', '10010111', '10000100', '10011001', '10001011', '10001010', '10000011', '10011110', '10011001', '10000010']\n"
     ]
    }
   ],
   "source": [
    "M1 = \"mojawiadomosc\"\n",
    "K = \"klucz\"\n",
    "\n",
    "def encrypt(text, key):\n",
    "    text_bytes = ASCIIToBinChunks(intoASCIIArray(text))\n",
    "    key_bytes = ASCIIToBinChunks(intoASCIIArray(key))\n",
    "    xor_bytes = [XOR(text_byte, key_bytes[i % len(key_bytes)]) for i, text_byte in enumerate(text_bytes)]\n",
    "    return xor_bytes\n",
    "\n",
    "def decrypt(cipher_bytes, key):\n",
    "    key_bytes = ASCIIToBinChunks(intoASCIIArray(key))\n",
    "    decrypted_bytes = [XOR(byte, key_bytes[i % len(key_bytes)]) for i, byte in enumerate(cipher_bytes)]\n",
    "    return ''.join(intoCharArray([int(s,2) for s in decrypted_bytes]))\n",
    "\n",
    "C1 = encrypt(M1, K)\n",
    "C2 = [XOR(byte, '11111111') for byte in C1]\n",
    "decrypted = decrypt(C2, key)\n",
    "\n",
    "print(\"M1 binary: \", ASCIIToBinChunks(intoASCIIArray(M1)))\n",
    "print(\"M2 binary: \", ASCIIToBinChunks(intoASCIIArray(decrypted)))\n"
   ]
  },
  {
   "cell_type": "markdown",
   "metadata": {},
   "source": [
    "# Szyfr strumieniowy RC4\n",
    "*Niech studenci sobie zrobią RC4, szyfry z LFSR, ChaCha20 i Salsa20 pokaże na wykładzie. Jeśli zdąże to przygotuję notebooka z kryptoanalizą RC4* \n",
    "\n",
    "1. Odkryj sposób działania algorytmu RC4. Poszukaj informacji gdzie był używany RC4.\n",
    "\n",
    "A) Inicjalizacja generatora liczb pseudolosowych:\n",
    "    \n",
    "    a) zainicjuj tablicę S liczbami od 0 do 255\n",
    "    b) permutuj tablicę S 256 razy (i=0...255); od j=0:\n",
    "        i = i + 1\n",
    "        j = (j + S[i] + K[i mod KeyLength]) mod 256\n",
    "        swap(S[i], S[j])\n",
    "    \n",
    "\n",
    "B) Generowanie strumienia klucza (od i,j=0):\n",
    "\n",
    "    a) i = (i + 1) mod 256\n",
    "    b) j = (j + S[i]) mod 256\n",
    "    c) swap(S[i], S[j])\n",
    "    d) keyStreamByte = S[(S[i]+S[j]) mod 256]\n",
    "    c) cipherByte = plaintextByte^keyStreamByte"
   ]
  },
  {
   "cell_type": "code",
   "execution_count": 20,
   "metadata": {},
   "outputs": [
    {
     "data": {
      "text/plain": "<Figure size 1080x648 with 0 Axes>"
     },
     "metadata": {},
     "output_type": "display_data"
    }
   ],
   "source": [
    "import codecs\n",
    "import matplotlib.pyplot as plt\n",
    "plt.figure(figsize=(15,9))\n",
    "\n",
    "MOD = 256\n",
    "#inicjalizacja generatora szyfru RC4\n",
    "\n",
    "def KSA(key):\n",
    "    key_length = len(key)\n",
    "    # inicjalizuj tablice permutacji S\n",
    "    S = list(range(MOD))\n",
    "    j = 0\n",
    "    for i in range(MOD):\n",
    "        j = (j + S[i] + key[i % len(key)]) % MOD\n",
    "        S[i], S[j] = S[j], S[i]\n",
    "\n",
    "    return S"
   ]
  },
  {
   "cell_type": "code",
   "execution_count": 21,
   "metadata": {},
   "outputs": [],
   "source": [
    "#generator liczb pseudolosowych RC4\n",
    "def PRGA(S):\n",
    "    S_copy = S[:]\n",
    "    i = 0\n",
    "    j = 0\n",
    "    while True:\n",
    "        i = (i + 1) % MOD\n",
    "        j = (j + S[i]) % MOD\n",
    "        S_copy[i], S_copy[j] = S_copy[j], S_copy[i]\n",
    "        t = (S[i] + S[j]) % MOD\n",
    "        K = S[t]\n",
    "        yield K"
   ]
  },
  {
   "cell_type": "code",
   "execution_count": 22,
   "metadata": {
    "scrolled": false
   },
   "outputs": [
    {
     "data": {
      "text/plain": "<Figure size 432x288 with 1 Axes>",
      "image/png": "[encoded data removed]"
     },
     "metadata": {
      "needs_background": "light"
     },
     "output_type": "display_data"
    },
    {
     "data": {
      "text/plain": "<Figure size 1080x1368 with 0 Axes>"
     },
     "metadata": {},
     "output_type": "display_data"
    },
    {
     "name": "stdout",
     "output_type": "stream",
     "text": [
      "Tekst jawny: Lorem ipsum dolor sit amet, consectetur adipiscing elit. Proin nibh augue, suscipit a, scelerisque sed, lacinia in, mi.\n",
      "Szyfrogram: 5D35E951F8AB6369A98A3FD2F3537BB4B96A4AA29FA236ECEA61D3F8BE85B058DCCA4515E29848358905A9365D344B6E52AD877116BDC83E03FFE3B777CD8F90375E1A20EB855A4D9142E709709CBB9CC65A869984822172D6F4D4A3842D2B83A68FBF677F173E367278C02B2BF11D2480B852C7D22F77\n",
      "Tekst odszyfrowany: Lorem ipsum dolor sit amet, consectetur adipiscing elit. Proin nibh augue, suscipit a, scelerisque sed, lacinia in, mi.\n"
     ]
    }
   ],
   "source": [
    "def get_keystream(key):\n",
    "    S = KSA(key)\n",
    "    return PRGA(S)\n",
    "\n",
    "\n",
    "def encrypt_logic(key, text, kstr):\n",
    "    key = [ord(c) for c in key]\n",
    "    keystream = get_keystream(key)\n",
    "    res = []\n",
    "    for c in text:\n",
    "        ks = next(keystream)\n",
    "        kstr.append(ks)\n",
    "        val = (\"%02X\" % (c ^ ks))  # XOR and taking hex\n",
    "        res.append(val)\n",
    "    return ''.join(res)\n",
    "\n",
    "\n",
    "def encrypt(key, plaintext):\n",
    "    kstream =[]\n",
    "    plaintext = [ord(c) for c in plaintext]\n",
    "    text = encrypt_logic(key, plaintext,kstream)\n",
    "    #print(\"\\n Key stream :\", kstream)\n",
    "    # matplotlib histogram\n",
    "    plt.hist(kstream, color = 'blue', edgecolor = 'black', bins = 256)\n",
    "    plt.title('Histogram of RC4 key stream')\n",
    "    plt.xlabel('Values')\n",
    "    plt.ylabel('Frequency')\n",
    "    plt.figure(figsize=(15,19))\n",
    "    plt.show()\n",
    "    return text\n",
    "\n",
    "def decrypt(key, ciphertext):\n",
    "    kstream =[]\n",
    "    ciphertext = codecs.decode(ciphertext, 'hex_codec')\n",
    "    res = encrypt_logic(key, ciphertext,kstream)\n",
    "    return codecs.decode(res, 'hex_codec').decode('utf-8')\n",
    "\n",
    "\n",
    "def main():\n",
    "    key = 'klucz-szyfrowy'  # plaintext\n",
    "    plaintext = 'Lorem ipsum dolor sit amet, consectetur adipiscing elit. Proin nibh augue, suscipit a, scelerisque sed, lacinia in, mi.'  # plaintext\n",
    "    ciphertext = encrypt(key, plaintext)\n",
    "    print('Tekst jawny:', plaintext)\n",
    "    print('Szyfrogram:', ciphertext)\n",
    "    decrypted = decrypt(key, ciphertext)\n",
    "    print('Tekst odszyfrowany:', decrypted)\n",
    "    \n",
    "main()\n"
   ]
  },
  {
   "cell_type": "markdown",
   "metadata": {},
   "source": [
    "## Jak sprawdzać losowość ciągu? Testy losowaości.  \n",
    "*Jeśli wystarczy czasu to można wspomniać o testach losowości, np. z kolekcji NIST* \n",
    "\n",
    "1. Poszukaj informacji o kryptograficznych generatorach liczb pseudolosowych. Jaki jest najważniejsza własność generatora z punktu widzenia kryptografii? \n",
    "2. Przykładowy test losowości monobit (https://csrc.nist.gov/publications/detail/sp/800-22/rev-1a/final). Przeanalizuj kod. "
   ]
  },
  {
   "cell_type": "code",
   "execution_count": 23,
   "metadata": {},
   "outputs": [
    {
     "name": "stdout",
     "output_type": "stream",
     "text": [
      "1110101001011100111111000101100010101011100001000000111000001110010111000110001000001011011010111001000010100000100010110000010110001001001100101000011010101111010111000010000110010001001111111010101000101111011110001100011110001111100111111001111110100100000000010111110010101000011101000001111010010010010000100001000110000110111100000001011001110001010110011001111011010000010110011010010101001110100011111100000011101001011011000011100111111111111010011110001001100101100000011000010001010110001001011100001100111111111101110110000101010101110000110101010011000101110101010101011100100100000111010011100111110001000001000010010100100110100011001010001001111010100010101000101100101110000101101110110101110111100001000000010011001010110111101010110000101100001000101001110111100001011010000010101010100001111011101110101100011011001010101110110010011010010010111011110010111100100110010001100111101110111000111110101001111000000110010100010001000000110111010100011011011001001100011110110101100100010101001111111001000000\n",
      "0.2605890342736177\n"
     ]
    }
   ],
   "source": [
    "import numpy\n",
    "import math\n",
    "from scipy import special as spc\n",
    "\n",
    "def monobit(bin_data: str):\n",
    "    \"\"\"\n",
    "    Note that this description is taken from the NIST documentation [1]\n",
    "    [1] http://csrc.nist.gov/publications/nistpubs/800-22-rev1a/SP800-22rev1a.pdf\n",
    "  \n",
    "    The focus of this test is the proportion of zeros and ones for the entire sequence. The purpose of this test is\n",
    "    to determine whether the number of ones and zeros in a sequence are approximately the same as would be expected\n",
    "    for a truly random sequence. This test assesses the closeness of the fraction of ones to 1/2, that is the number\n",
    "    of ones and zeros ina  sequence should be about the same. All subsequent tests depend on this test.\n",
    "  \n",
    "    :param bin_data: a binary string\n",
    "    :return: the p-value from the test\n",
    "    \"\"\"\n",
    "    count = 0\n",
    "    # If the char is 0 minus 1, else add 1\n",
    "    for char in bin_data:\n",
    "        if char == '0':\n",
    "            count -= 1\n",
    "        else:\n",
    "            count += 1\n",
    "    # Calculate the p value\n",
    "    sobs = count / math.sqrt(len(bin_data))\n",
    "    p_val = spc.erfc(math.fabs(sobs) / math.sqrt(2))\n",
    "    return p_val\n",
    "\n",
    "\n",
    "#Generowanie n-bitowego ciągu \n",
    "n=3\n",
    "#arr = numpy.random.randint(2, size=(n,))\n",
    "bitString = []\n",
    "for i in range(0, 1024):\n",
    "    x = str(numpy.random.randint(0, 2))\n",
    "    bitString.append(x)\n",
    "arr = ''.join(bitString)\n",
    "print(arr)\n",
    "print(monobit(arr))"
   ]
  },
  {
   "cell_type": "markdown",
   "metadata": {},
   "source": [
    "Poniższy test nazywa się runs i opiera się na zliczaniu serii nieprzerwanych ciągów 0 albo 1 w ciągu wejściowym. Ocenia czy ich ilość jest taka jak przewidywana dla danych losowych.\n",
    "\n",
    "W samym teście najpierw wyliczamy wartość pi, czyli stosunek liczby jedynek do długości ciągu wejściowego. Następnie sprawdzamy czy ten stosunek mieści się w rozsądnym przedziale, co sprawdzamy za pomocą wyliczenia wartości tau, które wynosi 2/sqrt(n) gdzie n to długość ciągu wejściowego. Im dłuższy ciąg, tym bardziej pi powinno zbliżać się do 1/2. Jeżeli okaże się, że wartość ta za bardzo odstaje od przewidywanej, nie trzeba stosować testu runs aby stwierdzić, że dane wejściowe nie wyglądają losowo.\n",
    "\n",
    "Następnie zliczamy faktyczną liczbę nieprzerwanych ciągów tych samych wartości. Wyliczamy p_value stosując korzystając z funkcji zaproponowanej przez autorów testu. Na końcu sprawdzamy, czy p_value jest większe niż 1%. Jeżeli jest, test zostaje zakończony pomyślnie."
   ]
  },
  {
   "cell_type": "code",
   "execution_count": 24,
   "metadata": {},
   "outputs": [
    {
     "name": "stdout",
     "output_type": "stream",
     "text": [
      "1000011111000111101000010100100111101110101000000110010011101011110000010000010101011110111110110111001000111000001101101000010110101111101110100100101010001000110111101000000100111110111011011011100011001001111100101110010100101110000101000111110110011101100111011100100100001001000000110111111001001001000101100001110001110111101100110011001011001010110000111001010010001100110010001001001101100011011111000111001101001001010100110111000101011101110100000101111010111000011110001011000110111101110011101100101110011011001110100101001100110110110001111000010100100101011100100010111100110110111111110011110100000101101101010111001010111011111100000110001101010010111010111000110100101011000101101011110101111101011010101001010101111111111101110001101010100000011110110001010000011000000000010011000101011110111010101011110111111101111010101010110001101000010100011010100110100010101010010111011000100010001110001010100111111010001010011001011010110110111110001001011001001001011111100001100101101100000011010101001110010011\n",
      "Test zakończony pomyślnie:\n",
      "0.08292602843406405\n"
     ]
    }
   ],
   "source": [
    "import numpy\n",
    "import math\n",
    "from scipy import special as spc\n",
    "\n",
    "def count_ones(bin_data: str):\n",
    "    count=0\n",
    "    for l in bin_data:\n",
    "        if l=='1':\n",
    "            count+=1\n",
    "    return count\n",
    "\n",
    "def runs(bin_data: str):\n",
    "    \"\"\"\n",
    "    Note that this description is taken from the NIST documentation [1]\n",
    "    [1] http://csrc.nist.gov/publications/nistpubs/800-22-rev1a/SP800-22rev1a.pdf\n",
    "  \n",
    "    The focus of this test is the total number of runs in the sequence,\n",
    "    where a run is an uninterrupted sequence of identical bits.  \n",
    "    A run of length k consists of exactly k identical bits and is bounded\n",
    "    before and after with a bit of the opposite value. \n",
    "    The purpose of the runs test is to determine whether the number of runs of\n",
    "    ones and zeros of various lengths is as expected for a random sequence. \n",
    "    In particular, this test determines whether the oscillation between such\n",
    "    zeros and ones is too fast or too slow. \n",
    "\n",
    "\n",
    "    :param bin_data: a binary string\n",
    "    :return: the p-value from the test\n",
    "    \"\"\"\n",
    "    n = len(bin_data)\n",
    "    pi = count_ones(bin_data)/n\n",
    "    tau = 2/math.sqrt(n)\n",
    "    \n",
    "    if abs(pi - 1/2) >= tau:\n",
    "        print(\"Test Monobit nie powinien zostać zaliczony.\")\n",
    "        return 0\n",
    "    \n",
    "    count = 1\n",
    "    # If the char at next index is different, there is a new run\n",
    "    for i in range(n-1):\n",
    "        if bin_data[i] != bin_data[i+1]:\n",
    "            count+=1\n",
    "            \n",
    "    # Calculate the p value\n",
    "    p_val = spc.erfc((abs(count-2*n*pi*(1-pi)))/(2*math.sqrt(2*n)*pi*(1-pi)))\n",
    "    return p_val\n",
    "\n",
    "\n",
    "# Generowanie n-bitowego ciągu \n",
    "n=3\n",
    "arr = numpy.random.randint(2, size=(n,))\n",
    "bitString = []\n",
    "for i in range(0, 1024):\n",
    "    x = str(numpy.random.randint(0, 2))\n",
    "    bitString.append(x)\n",
    "arr = ''.join(bitString)\n",
    "# arr = '1001101011' - taki przykład podano w opisie testu, wynik wynosi zgodnie z opisem 0.147232\n",
    "print(arr)\n",
    "res = runs(arr)\n",
    "if res > 0.01:\n",
    "    print(\"Test zakończony pomyślnie:\")\n",
    "else:\n",
    "    print(\"Test niezaliczony:\")\n",
    "print(res)"
   ]
  }
 ],
 "metadata": {
  "kernelspec": {
   "name": "psi",
   "language": "python",
   "display_name": "PSI"
  },
  "language_info": {
   "codemirror_mode": {
    "name": "ipython",
    "version": 3
   },
   "file_extension": ".py",
   "mimetype": "text/x-python",
   "name": "python",
   "nbconvert_exporter": "python",
   "pygments_lexer": "ipython3",
   "version": "3.9.12"
  }
 },
 "nbformat": 4,
 "nbformat_minor": 1
}
